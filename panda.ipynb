{
 "cells": [
  {
   "cell_type": "code",
   "execution_count": 3,
   "metadata": {},
   "outputs": [
    {
     "name": "stdout",
     "output_type": "stream",
     "text": [
      "Collecting ydata_profiling\n",
      "  Using cached ydata_profiling-4.6.4-py2.py3-none-any.whl (357 kB)\n",
      "Collecting scipy<1.12,>=1.4.1\n",
      "  Using cached scipy-1.11.4-cp311-cp311-manylinux_2_17_x86_64.manylinux2014_x86_64.whl (36.4 MB)\n",
      "Requirement already satisfied: pandas!=1.4.0,<3,>1.1 in ./menv/lib/python3.11/site-packages (from ydata_profiling) (2.2.0)\n",
      "Requirement already satisfied: matplotlib<3.9,>=3.2 in ./menv/lib/python3.11/site-packages (from ydata_profiling) (3.8.2)\n",
      "Requirement already satisfied: pydantic>=2 in ./menv/lib/python3.11/site-packages (from ydata_profiling) (2.6.0)\n",
      "Requirement already satisfied: PyYAML<6.1,>=5.0.0 in ./menv/lib/python3.11/site-packages (from ydata_profiling) (6.0.1)\n",
      "Requirement already satisfied: jinja2<3.2,>=2.11.1 in ./menv/lib/python3.11/site-packages (from ydata_profiling) (3.1.3)\n",
      "Collecting visions[type_image_path]==0.7.5\n",
      "  Using cached visions-0.7.5-py3-none-any.whl (102 kB)\n",
      "Collecting numpy<1.26,>=1.16.0\n",
      "  Using cached numpy-1.25.2-cp311-cp311-manylinux_2_17_x86_64.manylinux2014_x86_64.whl (18.2 MB)\n",
      "Requirement already satisfied: htmlmin==0.1.12 in ./menv/lib/python3.11/site-packages (from ydata_profiling) (0.1.12)\n",
      "Requirement already satisfied: phik<0.13,>=0.11.1 in ./menv/lib/python3.11/site-packages (from ydata_profiling) (0.12.4)\n",
      "Requirement already satisfied: requests<3,>=2.24.0 in ./menv/lib/python3.11/site-packages (from ydata_profiling) (2.31.0)\n",
      "Requirement already satisfied: tqdm<5,>=4.48.2 in ./menv/lib/python3.11/site-packages (from ydata_profiling) (4.66.1)\n",
      "Collecting seaborn<0.13,>=0.10.1\n",
      "  Using cached seaborn-0.12.2-py3-none-any.whl (293 kB)\n",
      "Requirement already satisfied: multimethod<2,>=1.4 in ./menv/lib/python3.11/site-packages (from ydata_profiling) (1.11)\n",
      "Collecting statsmodels<1,>=0.13.2\n",
      "  Using cached statsmodels-0.14.1-cp311-cp311-manylinux_2_17_x86_64.manylinux2014_x86_64.whl (10.8 MB)\n",
      "Collecting typeguard<5,>=4.1.2\n",
      "  Using cached typeguard-4.1.5-py3-none-any.whl (34 kB)\n",
      "Requirement already satisfied: imagehash==4.3.1 in ./menv/lib/python3.11/site-packages (from ydata_profiling) (4.3.1)\n",
      "Collecting wordcloud>=1.9.1\n",
      "  Using cached wordcloud-1.9.3-cp311-cp311-manylinux_2_17_x86_64.manylinux2014_x86_64.whl (548 kB)\n",
      "Collecting dacite>=1.8\n",
      "  Using cached dacite-1.8.1-py3-none-any.whl (14 kB)\n",
      "Collecting numba<0.59.0,>=0.56.0\n",
      "  Using cached numba-0.58.1-cp311-cp311-manylinux2014_x86_64.manylinux_2_17_x86_64.whl (3.6 MB)\n",
      "Requirement already satisfied: PyWavelets in ./menv/lib/python3.11/site-packages (from imagehash==4.3.1->ydata_profiling) (1.5.0)\n",
      "Requirement already satisfied: pillow in ./menv/lib/python3.11/site-packages (from imagehash==4.3.1->ydata_profiling) (10.2.0)\n",
      "Requirement already satisfied: attrs>=19.3.0 in ./menv/lib/python3.11/site-packages (from visions[type_image_path]==0.7.5->ydata_profiling) (23.2.0)\n",
      "Requirement already satisfied: networkx>=2.4 in ./menv/lib/python3.11/site-packages (from visions[type_image_path]==0.7.5->ydata_profiling) (3.2.1)\n",
      "Requirement already satisfied: tangled-up-in-unicode>=0.0.4 in ./menv/lib/python3.11/site-packages (from visions[type_image_path]==0.7.5->ydata_profiling) (0.2.0)\n",
      "Requirement already satisfied: MarkupSafe>=2.0 in ./menv/lib/python3.11/site-packages (from jinja2<3.2,>=2.11.1->ydata_profiling) (2.1.4)\n",
      "Requirement already satisfied: contourpy>=1.0.1 in ./menv/lib/python3.11/site-packages (from matplotlib<3.9,>=3.2->ydata_profiling) (1.2.0)\n",
      "Requirement already satisfied: cycler>=0.10 in ./menv/lib/python3.11/site-packages (from matplotlib<3.9,>=3.2->ydata_profiling) (0.12.1)\n",
      "Requirement already satisfied: fonttools>=4.22.0 in ./menv/lib/python3.11/site-packages (from matplotlib<3.9,>=3.2->ydata_profiling) (4.47.2)\n",
      "Requirement already satisfied: kiwisolver>=1.3.1 in ./menv/lib/python3.11/site-packages (from matplotlib<3.9,>=3.2->ydata_profiling) (1.4.5)\n",
      "Requirement already satisfied: packaging>=20.0 in ./menv/lib/python3.11/site-packages (from matplotlib<3.9,>=3.2->ydata_profiling) (23.2)\n",
      "Requirement already satisfied: pyparsing>=2.3.1 in ./menv/lib/python3.11/site-packages (from matplotlib<3.9,>=3.2->ydata_profiling) (3.1.1)\n",
      "Requirement already satisfied: python-dateutil>=2.7 in ./menv/lib/python3.11/site-packages (from matplotlib<3.9,>=3.2->ydata_profiling) (2.8.2)\n",
      "Collecting llvmlite<0.42,>=0.41.0dev0\n",
      "  Using cached llvmlite-0.41.1-cp311-cp311-manylinux_2_17_x86_64.manylinux2014_x86_64.whl (43.6 MB)\n",
      "Requirement already satisfied: pytz>=2020.1 in ./menv/lib/python3.11/site-packages (from pandas!=1.4.0,<3,>1.1->ydata_profiling) (2024.1)\n",
      "Requirement already satisfied: tzdata>=2022.7 in ./menv/lib/python3.11/site-packages (from pandas!=1.4.0,<3,>1.1->ydata_profiling) (2023.4)\n",
      "Requirement already satisfied: joblib>=0.14.1 in ./menv/lib/python3.11/site-packages (from phik<0.13,>=0.11.1->ydata_profiling) (1.1.1)\n",
      "Requirement already satisfied: annotated-types>=0.4.0 in ./menv/lib/python3.11/site-packages (from pydantic>=2->ydata_profiling) (0.6.0)\n",
      "Requirement already satisfied: pydantic-core==2.16.1 in ./menv/lib/python3.11/site-packages (from pydantic>=2->ydata_profiling) (2.16.1)\n",
      "Requirement already satisfied: typing-extensions>=4.6.1 in ./menv/lib/python3.11/site-packages (from pydantic>=2->ydata_profiling) (4.9.0)\n",
      "Requirement already satisfied: charset-normalizer<4,>=2 in ./menv/lib/python3.11/site-packages (from requests<3,>=2.24.0->ydata_profiling) (3.3.2)\n",
      "Requirement already satisfied: idna<4,>=2.5 in ./menv/lib/python3.11/site-packages (from requests<3,>=2.24.0->ydata_profiling) (3.6)\n",
      "Requirement already satisfied: urllib3<3,>=1.21.1 in ./menv/lib/python3.11/site-packages (from requests<3,>=2.24.0->ydata_profiling) (2.2.0)\n",
      "Requirement already satisfied: certifi>=2017.4.17 in ./menv/lib/python3.11/site-packages (from requests<3,>=2.24.0->ydata_profiling) (2024.2.2)\n",
      "Collecting patsy>=0.5.4\n",
      "  Using cached patsy-0.5.6-py2.py3-none-any.whl (233 kB)\n",
      "Requirement already satisfied: six in ./menv/lib/python3.11/site-packages (from patsy>=0.5.4->statsmodels<1,>=0.13.2->ydata_profiling) (1.16.0)\n",
      "Installing collected packages: typeguard, numpy, llvmlite, dacite, scipy, patsy, numba, visions, statsmodels, wordcloud, seaborn, ydata_profiling\n",
      "  Attempting uninstall: numpy\n",
      "    Found existing installation: numpy 1.26.3\n",
      "    Uninstalling numpy-1.26.3:\n",
      "      Successfully uninstalled numpy-1.26.3\n",
      "  Attempting uninstall: scipy\n",
      "    Found existing installation: scipy 1.12.0\n",
      "    Uninstalling scipy-1.12.0:\n",
      "      Successfully uninstalled scipy-1.12.0\n",
      "  Attempting uninstall: visions\n",
      "    Found existing installation: visions 0.7.4\n",
      "    Uninstalling visions-0.7.4:\n",
      "      Successfully uninstalled visions-0.7.4\n",
      "  Attempting uninstall: seaborn\n",
      "    Found existing installation: seaborn 0.13.2\n",
      "    Uninstalling seaborn-0.13.2:\n",
      "      Successfully uninstalled seaborn-0.13.2\n",
      "\u001b[31mERROR: pip's dependency resolver does not currently take into account all the packages that are installed. This behaviour is the source of the following dependency conflicts.\n",
      "pandas-profiling 3.2.0 requires visions[type_image_path]==0.7.4, but you have visions 0.7.5 which is incompatible.\u001b[0m\u001b[31m\n",
      "\u001b[0mSuccessfully installed dacite-1.8.1 llvmlite-0.41.1 numba-0.58.1 numpy-1.25.2 patsy-0.5.6 scipy-1.11.4 seaborn-0.12.2 statsmodels-0.14.1 typeguard-4.1.5 visions-0.7.5 wordcloud-1.9.3 ydata_profiling-4.6.4\n"
     ]
    }
   ],
   "source": [
    "! pip install ydata_profiling"
   ]
  },
  {
   "cell_type": "code",
   "execution_count": 1,
   "metadata": {},
   "outputs": [
    {
     "name": "stderr",
     "output_type": "stream",
     "text": [
      "/tmp/ipykernel_40024/901466288.py:1: DeprecationWarning: \n",
      "Pyarrow will become a required dependency of pandas in the next major release of pandas (pandas 3.0),\n",
      "(to allow more performant data types, such as the Arrow string type, and better interoperability with other libraries)\n",
      "but was not found to be installed on your system.\n",
      "If this would cause problems for you,\n",
      "please provide us feedback at https://github.com/pandas-dev/pandas/issues/54466\n",
      "        \n",
      "  import pandas as pd\n",
      "/tmp/ipykernel_40024/901466288.py:2: DeprecationWarning: `import pandas_profiling` is going to be deprecated by April 1st. Please use `import ydata_profiling` instead.\n",
      "  from pandas_profiling import ProfileReport\n"
     ]
    },
    {
     "data": {
      "application/vnd.jupyter.widget-view+json": {
       "model_id": "0eb96e7c2ca549d29d5ecebfa296d196",
       "version_major": 2,
       "version_minor": 0
      },
      "text/plain": [
       "Summarize dataset:   0%|          | 0/5 [00:00<?, ?it/s]"
      ]
     },
     "metadata": {},
     "output_type": "display_data"
    },
    {
     "data": {
      "application/vnd.jupyter.widget-view+json": {
       "model_id": "b5e6a0270fc648cca9bce59b7c080338",
       "version_major": 2,
       "version_minor": 0
      },
      "text/plain": [
       "Generate report structure:   0%|          | 0/1 [00:00<?, ?it/s]"
      ]
     },
     "metadata": {},
     "output_type": "display_data"
    },
    {
     "data": {
      "application/vnd.jupyter.widget-view+json": {
       "model_id": "271ccc96fd294761bea17f403a102570",
       "version_major": 2,
       "version_minor": 0
      },
      "text/plain": [
       "Render HTML:   0%|          | 0/1 [00:00<?, ?it/s]"
      ]
     },
     "metadata": {},
     "output_type": "display_data"
    },
    {
     "data": {
      "application/vnd.jupyter.widget-view+json": {
       "model_id": "4350fd4ccfa64ed190e24d4d7ded7426",
       "version_major": 2,
       "version_minor": 0
      },
      "text/plain": [
       "Export report to file:   0%|          | 0/1 [00:00<?, ?it/s]"
      ]
     },
     "metadata": {},
     "output_type": "display_data"
    },
    {
     "name": "stdout",
     "output_type": "stream",
     "text": [
      "\n"
     ]
    }
   ],
   "source": [
    "import pandas as pd\n",
    "from pandas_profiling import ProfileReport\n",
    "\n",
    "# Load dataset into a pandas DataFrame\n",
    "df = pd.read_csv('newdata.csv')\n",
    "\n",
    "# Generate a data profile report\n",
    "profile = ProfileReport(df)\n",
    "\n",
    "# Save the profile report as an interactive HTML file\n",
    "\n",
    "profile.to_file(\"profile_report.html\")\n",
    "\n",
    "# Display the basic statistics in the console\n",
    "print(profile)\n"
   ]
  },
  {
   "cell_type": "code",
   "execution_count": 9,
   "metadata": {},
   "outputs": [
    {
     "name": "stdout",
     "output_type": "stream",
     "text": [
      "Data Profiling Metrics:\n",
      "row_count: 10\n",
      "property_count: 4\n",
      "empty_properties: {'Name': 0, 'Age': 0, 'Salary': 0, 'Date_of_joining': 0}\n",
      "average: {'Age': 37.9, 'Salary': 43316.6}\n",
      "sum: {'Age': 379, 'Salary': 433166.0}\n",
      "standard_deviation: {'Age': 11.454741861391339, 'Salary': 11282.762469064628}\n",
      "min: {'Age': 23, 'Salary': 24560.0}\n",
      "max: {'Age': 56, 'Salary': 61000.0}\n",
      "sample_values: {'Name': ['booker', 'grey', 'johnson', 'jenkins', 'smith'], 'Age': [23, 56, 43, 34, 32], 'Salary': [55000.0, 45000.0, 45400.0, 32400.0, 30000.0], 'Date_of_joining': [Timestamp('2022-02-01 00:00:00'), Timestamp('2023-07-07 00:00:00'), Timestamp('2022-03-11 00:00:00'), Timestamp('2019-08-16 00:00:00'), Timestamp('2020-10-04 00:00:00')]}\n"
     ]
    }
   ],
   "source": [
    "import pandas as pd\n",
    "df = pd.read_csv('newdata.csv')\n",
    "\n",
    "# Convert the 'Date_of_joining' column to datetime format\n",
    "df['Date_of_joining'] = pd.to_datetime(df['Date_of_joining'])\n",
    "\n",
    "numeric_columns = df.select_dtypes(include=['int', 'float']).columns\n",
    "\n",
    "metrics = {\n",
    "    'row_count': len(df),\n",
    "    'property_count': len(df.columns),\n",
    "    'empty_properties': {c: df[c].isnull().sum() for c in df.columns},\n",
    "    'average': {c: df[c].mean() for c in numeric_columns},\n",
    "    'sum': {c: df[c].sum() for c in numeric_columns},\n",
    "    'standard_deviation': {c: df[c].std() for c in numeric_columns},\n",
    "    'min': {c: df[c].min() for c in numeric_columns},\n",
    "    'max': {c: df[c].max() for c in numeric_columns},\n",
    "    'sample_values': {c: df[c].head(5).tolist() for c in df.columns},\n",
    "}\n",
    "\n",
    "# Print the metrics\n",
    "print(\"Data Profiling Metrics:\")\n",
    "for metric, value in metrics.items():\n",
    "    print(f\"{metric}: {value}\")\n"
   ]
  }
 ],
 "metadata": {
  "kernelspec": {
   "display_name": "menv",
   "language": "python",
   "name": "python3"
  },
  "language_info": {
   "codemirror_mode": {
    "name": "ipython",
    "version": 3
   },
   "file_extension": ".py",
   "mimetype": "text/x-python",
   "name": "python",
   "nbconvert_exporter": "python",
   "pygments_lexer": "ipython3",
   "version": "3.11.4"
  }
 },
 "nbformat": 4,
 "nbformat_minor": 2
}
